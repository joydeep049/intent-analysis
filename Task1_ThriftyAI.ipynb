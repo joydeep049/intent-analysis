{
  "nbformat": 4,
  "nbformat_minor": 0,
  "metadata": {
    "colab": {
      "provenance": []
    },
    "kernelspec": {
      "name": "python3",
      "display_name": "Python 3"
    },
    "language_info": {
      "name": "python"
    }
  },
  "cells": [
    {
      "cell_type": "markdown",
      "source": [
        "## Part A: Multilingual Intent Detection"
      ],
      "metadata": {
        "id": "3dP3kxYvSg7X"
      }
    },
    {
      "cell_type": "code",
      "source": [
        "from sentence_transformers import SentenceTransformer\n",
        "from sklearn.metrics.pairwise import cosine_similarity\n",
        "import numpy as np\n",
        "\n",
        "model = SentenceTransformer(\"nomic-ai/nomic-embed-text-v1\", trust_remote_code = True)"
      ],
      "metadata": {
        "colab": {
          "base_uri": "https://localhost:8080/"
        },
        "id": "uJHoEJ219wjY",
        "outputId": "dc7b933b-39dc-4037-9fe1-b24abcf1b306"
      },
      "execution_count": 100,
      "outputs": [
        {
          "output_type": "stream",
          "name": "stderr",
          "text": [
            "WARNING:transformers_modules.nomic-ai.nomic-bert-2048.e5042dce39060cc34bc223455f25cf1d26db4655.modeling_hf_nomic_bert:<All keys matched successfully>\n"
          ]
        }
      ]
    },
    {
      "cell_type": "code",
      "source": [
        "# Labeled Training data\n",
        "raw_data = [\n",
        "    (\"I want to book a room for two adults.\", \"book_room\"),\n",
        "    (\"क्या मैं अपनी बुकिंग को अगले हफ्ते के लिए रद्द कर सकता हूँ?\", \"cancel_booking\"),\n",
        "    (\"Do you have any special offers available?\", \"request_special_offer\"),\n",
        "    (\"होटल के पास प्रसिद्ध आकर्षण क्या हैं?\", \"ask_about_local_attractions\"),\n",
        "    (\"मेरे कमरे की सफाई के बारे में मुझे शिकायत है।\", \"resolve_complaint\"),\n",
        "    (\"Is there availability for a room on July 15th?\", \"check_availability\"),\n",
        "    (\"Deluxe मेरे लिए रेट क्या है प्रति रात?\", \"inquire_room_rate\"),\n",
        "    (\"मेरी बुकिंग को कैसे संशोधित करें?\", \"modify_booking\"),\n",
        "    (\"I would like to extend my stay by two nights.\", \"extend_booking\"),\n",
        "    (\"क्या मुझे लेट चेकआउट मिल सकता है?\", \"request_late_checkout\"),\n",
        "    (\"Is WiFi available in the rooms?\", \"ask_wifi_availability\"),\n",
        "    (\"मुझे होटल के रूम सर्विस मेन्यू की ज़रूरत है।\", \"request_room_service_menu\"),\n",
        "    (\"Hi, are pets allowed in the hotel?\", \"ask_pet_policy\"),\n",
        "    (\"क्या होटल में पार्किंग उपलब्ध है?\", \"ask_parking\"),\n",
        "    (\"I'd like a wake-up call at 6 AM.\", \"request_wakeup_call\"),\n",
        "    (\"Can I get an extra bed in my room?\", \"request_extra_bed\"),\n",
        "    (\"Do you offer airport pickup services?\", \"ask_airport_pickup\"),\n",
        "    (\"I'd like to speak to the manager.\", \"request_manager\"),\n",
        "    (\"खिड़की के पास कमरा चाहिए।\", \"request_room_preference\"),\n",
        "    (\"Please cancel my breakfast tomorrow.\", \"cancel_breakfast\"),\n",
        "    (\"होटल में जिम और स्पा है?\", \"ask_gym_spa\"),\n",
        "    (\"I need a quieter room, please.\", \"request_quiet_room\"),\n",
        "    (\"Can I pre-order lunch for tomorrow?\", \"preorder_meal\"),\n",
        "    (\"What’s the check-in policy?\", \"ask_checkin_policy\"),\n",
        "    (\"Check-out timing kya hai?\", \"ask_checkout_policy\"),\n",
        "]"
      ],
      "metadata": {
        "id": "5Gw7mQEK92by"
      },
      "execution_count": 101,
      "outputs": []
    },
    {
      "cell_type": "code",
      "source": [
        "# Embeddings\n",
        "train_texts = [x[0] for x in raw_data]\n",
        "train_labels = [x[1] for x in raw_data]\n",
        "train_embeddings = model.encode(train_texts)"
      ],
      "metadata": {
        "id": "9SdnrTFS97in"
      },
      "execution_count": 102,
      "outputs": []
    },
    {
      "cell_type": "code",
      "source": [
        " def predict_intent(text, top_k=1):\n",
        "    query_embedding = model.encode([text])\n",
        "    similarities = cosine_similarity(query_embedding, train_embeddings)[0]\n",
        "    top_idx = np.argsort(similarities)[::-1][:top_k]\n",
        "    return [(train_labels[i], similarities[i]) for i in top_idx]"
      ],
      "metadata": {
        "id": "CYtkEa529_mP"
      },
      "execution_count": 103,
      "outputs": []
    },
    {
      "cell_type": "code",
      "source": [
        "test_sentences = [\n",
        "    \"मैं अगले सप्ताह के लिए अपनी बुकिंग रद्द करना चाहता हूँ।\",\n",
        "    \"Is there a gym and spa in the hotel?\",\n",
        "    \"Deluxe रूम का रेट क्या है?\",\n",
        "    \"I want to extend my stay by two days.\",\n",
        "    \"क्या मुझे सुबह 6 बजे के लिए वेक-अप कॉल मिल सकता है?\",\n",
        "    \"I'd like to book a room with a sea view.\",\n",
        "    \"Do you provide pickup from the airport?\",\n",
        "    \"मेरे रूम में वाईफाई है क्या?\",\n",
        "    \"I want to cancel my breakfast tomorrow.\",\n",
        "    \"Can I request a quieter room?\"\n",
        "]"
      ],
      "metadata": {
        "id": "t8HDhtbQ-Bzo"
      },
      "execution_count": 104,
      "outputs": []
    },
    {
      "cell_type": "code",
      "source": [
        "# Inference\n",
        "for sentence in test_sentences:\n",
        "    predictions = predict_intent(sentence)\n",
        "    top_intent, score = predictions[0]\n",
        "    print(f\"Query: {sentence}\\nPredicted Intent: {top_intent} (Score: {score:.2f})\\n\")\n"
      ],
      "metadata": {
        "colab": {
          "base_uri": "https://localhost:8080/"
        },
        "id": "8t6fc7yj9Msa",
        "outputId": "71de0c1c-643a-4ce5-99e6-3b5b9aee1c61"
      },
      "execution_count": 105,
      "outputs": [
        {
          "output_type": "stream",
          "name": "stdout",
          "text": [
            "Query: मैं अगले सप्ताह के लिए अपनी बुकिंग रद्द करना चाहता हूँ।\n",
            "Predicted Intent: cancel_booking (Score: 0.91)\n",
            "\n",
            "Query: Is there a gym and spa in the hotel?\n",
            "Predicted Intent: ask_pet_policy (Score: 0.68)\n",
            "\n",
            "Query: Deluxe रूम का रेट क्या है?\n",
            "Predicted Intent: inquire_room_rate (Score: 0.92)\n",
            "\n",
            "Query: I want to extend my stay by two days.\n",
            "Predicted Intent: extend_booking (Score: 0.90)\n",
            "\n",
            "Query: क्या मुझे सुबह 6 बजे के लिए वेक-अप कॉल मिल सकता है?\n",
            "Predicted Intent: cancel_booking (Score: 0.81)\n",
            "\n",
            "Query: I'd like to book a room with a sea view.\n",
            "Predicted Intent: book_room (Score: 0.63)\n",
            "\n",
            "Query: Do you provide pickup from the airport?\n",
            "Predicted Intent: ask_airport_pickup (Score: 0.89)\n",
            "\n",
            "Query: मेरे रूम में वाईफाई है क्या?\n",
            "Predicted Intent: request_room_service_menu (Score: 0.76)\n",
            "\n",
            "Query: I want to cancel my breakfast tomorrow.\n",
            "Predicted Intent: cancel_breakfast (Score: 0.93)\n",
            "\n",
            "Query: Can I request a quieter room?\n",
            "Predicted Intent: request_quiet_room (Score: 0.92)\n",
            "\n"
          ]
        }
      ]
    },
    {
      "cell_type": "markdown",
      "source": [
        "## Part B: Basic Conversation Analysis"
      ],
      "metadata": {
        "id": "PR4VrNZO-vc5"
      }
    },
    {
      "cell_type": "code",
      "source": [
        "from sentence_transformers import SentenceTransformer\n",
        "from sklearn.metrics.pairwise import cosine_similarity\n",
        "from collections import defaultdict\n",
        "import numpy as np\n",
        "\n",
        "model = SentenceTransformer(\"nomic-ai/nomic-embed-text-v1\", trust_remote_code = True)"
      ],
      "metadata": {
        "id": "IM_AbBoTCqqD",
        "outputId": "e60ee010-ecb3-4e2c-b761-ed4c3a6e70be",
        "colab": {
          "base_uri": "https://localhost:8080/"
        }
      },
      "execution_count": 110,
      "outputs": [
        {
          "output_type": "stream",
          "name": "stderr",
          "text": [
            "WARNING:transformers_modules.nomic-ai.nomic-bert-2048.e5042dce39060cc34bc223455f25cf1d26db4655.modeling_hf_nomic_bert:<All keys matched successfully>\n"
          ]
        }
      ]
    },
    {
      "cell_type": "code",
      "source": [
        "conversation_history = [\n",
        "    \"Welcome to Hotel Booking Chatbot. How can I assist you today?\",\n",
        "    \"मैं दो वयस्कों और एक बच्चे के लिए कमरा बुक करना चाहता हूँ.\",\n",
        "    \"Sure, when would you like to check-in?\",\n",
        "    \"कल शाम को, कृपया।\",\n",
        "    \"Alright, let me check for availability.\",\n",
        "    \"बहुत बढ़िया, धन्यवाद!\",\n",
        "    \"You're welcome. Here are your booking details.\",\n",
        "    \"नमस्ते! मैं एक सूट के लिए बुकिंग करना चाहता हूँ।\",\n",
        "    \"कृपया कमरा बुक करें, जिसमें सभी सुविधाएँ शामिल हों।\",\n",
        "    \"आपकी बुकिंग की जांच करने के लिए आपका धन्यवाद।\",\n",
        "    \"कमरा उपलब्ध है। कृपया अपनी चेक-इन तारीख की पुष्टि करें।\",\n",
        "    \"मुझे कल शाम को चेक-इन करना है।\",\n",
        "    \"ठीक है, आपके बुकिंग की पुष्टि हो गई है।\",\n",
        "    \"Thank you for booking with us!\",\n",
        "    \"धन्यवाद! अगली बार आपका स्वागत है।\",\n",
        "    \"Welcome to our hotel booking service. How may I assist you?\",\n",
        "    \"I'd like to inquire about room availability for two adults and one child.\",\n",
        "    \"Sure, what dates are you interested in?\",\n",
        "    \"I'm looking to check-in tomorrow evening.\",\n",
        "    \"ठीक है, मुझे उपलब्धता की जांच करने दें।\",\n",
        "    \"धन्यवाद, कृपया मुझे जानकारी दें।\",\n",
        "    \"आपके लिए एक सूट उपलब्ध है। कृपया अपनी चेक-इन तारीख की पुष्टि करें।\",\n",
        "    \"Let me check for availability for you.\",\n",
        "    \"Thank you, that would be great!\",\n",
        "    \"You're welcome. Here are the available rooms for your requested dates.\",\n",
        "    \"Thank you! I'll check them out.\",\n",
        "    \"नमस्ते! मैं एक सूट बुक करना चाहता हूँ।\",\n",
        "    \"आपको किस तारीख को चेक-इन करना है?\",\n",
        "    \"मुझे कल शाम को आना है।\",\n",
        "    \"बहुत अच्छा, धन्यवाद।\",\n",
        "    \"आपकी बुकिंग की पुष्टि के लिए धन्यवाद।\",\n",
        "    \"Thank you for choosing our hotel.\",\n",
        "    \"मुझे आपका आदान-प्रदान करने में खुशी हुई।\",\n",
        "    \"Welcome to our hotel booking service. How may I assist you?\",\n",
        "]"
      ],
      "metadata": {
        "id": "tEq1Bib-CxSv"
      },
      "execution_count": 111,
      "outputs": []
    },
    {
      "cell_type": "code",
      "source": [
        "embeddings = model.encode(conversation_history)\n",
        "\n",
        "conversation_pairs = []\n",
        "for i in range(0, len(conversation_history) - 1, 2):\n",
        "    user = conversation_history[i]\n",
        "    bot = conversation_history[i + 1]\n",
        "    conversation_pairs.append((user, bot))\n",
        "\n",
        "user_inputs = [pair[0] for pair in conversation_pairs]\n",
        "user_embs = model.encode(user_inputs)"
      ],
      "metadata": {
        "id": "mWYokpLeDnFL"
      },
      "execution_count": 112,
      "outputs": []
    },
    {
      "cell_type": "code",
      "source": [
        "def generate_response(user_query, top_k=1):\n",
        "    query_emb = model.encode([user_query])\n",
        "    sim_scores = cosine_similarity(query_emb, user_embs)[0]\n",
        "\n",
        "    top_idx = np.argsort(sim_scores)[-top_k:][::-1]\n",
        "\n",
        "    print(f\"\\nUser: {user_query}\")\n",
        "    for idx in top_idx:\n",
        "        print(f\"Chatbot{conversation_pairs[idx][1]}\")"
      ],
      "metadata": {
        "id": "kqWlWTbnDpzA"
      },
      "execution_count": 113,
      "outputs": []
    },
    {
      "cell_type": "code",
      "source": [
        "test_queries = [\n",
        "    \"Can I book a room for three people?\",\n",
        "    \"मुझे कल के लिए एक रूम चाहिए।\",\n",
        "    \"Do you have suites with all amenities?\",\n",
        "    \"क्या मैं अपनी बुकिंग की तारीख बदल सकता हूँ?\",\n",
        "    \"Can I get a late check-out?\",\n",
        "    \"What are your check-in times?\"\n",
        "]"
      ],
      "metadata": {
        "id": "zdbW2TTFDs7k"
      },
      "execution_count": 114,
      "outputs": []
    },
    {
      "cell_type": "code",
      "source": [
        "for q in test_queries:\n",
        "    generate_response(q)\n"
      ],
      "metadata": {
        "colab": {
          "base_uri": "https://localhost:8080/"
        },
        "id": "DAjtFgQX9MNi",
        "outputId": "d480f6e3-f6c4-4b97-dca6-b4b7764f99a4"
      },
      "execution_count": 115,
      "outputs": [
        {
          "output_type": "stream",
          "name": "stdout",
          "text": [
            "\n",
            "User: Can I book a room for three people?\n",
            "ChatbotSure, what dates are you interested in?\n",
            "\n",
            "User: मुझे कल के लिए एक रूम चाहिए।\n",
            "Chatbotबहुत अच्छा, धन्यवाद।\n",
            "\n",
            "User: Do you have suites with all amenities?\n",
            "ChatbotThank you! I'll check them out.\n",
            "\n",
            "User: क्या मैं अपनी बुकिंग की तारीख बदल सकता हूँ?\n",
            "Chatbotमुझे कल शाम को चेक-इन करना है।\n",
            "\n",
            "User: Can I get a late check-out?\n",
            "Chatbotकल शाम को, कृपया।\n",
            "\n",
            "User: What are your check-in times?\n",
            "Chatbotकल शाम को, कृपया।\n"
          ]
        }
      ]
    },
    {
      "cell_type": "markdown",
      "source": [
        "This model has been lightly fine-tuned. We can get better results by giving it more data, which is another problem statement entirely. Due to the limited time, I'm limiting the training to smaller datasets.\n",
        "\n",
        "One more thing to note is that in the case of Hotel Management System based chatbot, we only need to have a limited number of responses, like the zomato chatbot."
      ],
      "metadata": {
        "id": "GjaVIeizC58o"
      }
    },
    {
      "cell_type": "markdown",
      "source": [
        "Using a lightweight LLM does not do very well in getting proper responses.This is because the amount of context that they can capture is very limited.While it did good on the classification task, it does not provide very good answers in analysing deeper patterns. This experiment can be taken further to include fine-tuning or trying out with a heavier model."
      ],
      "metadata": {
        "id": "lEQCAJl5BYFy"
      }
    }
  ]
}
